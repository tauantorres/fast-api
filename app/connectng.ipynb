{
 "cells": [
  {
   "cell_type": "raw",
   "metadata": {},
   "source": [
    "!pip install --upgrade pip           \n",
    "!pip install \"psycopg[binary,pool]\"  "
   ]
  },
  {
   "cell_type": "code",
   "execution_count": 2,
   "metadata": {},
   "outputs": [
    {
     "name": "stdout",
     "output_type": "stream",
     "text": [
      "Connection status: [\u001b[32mSUCCESS\u001b[0m]\n"
     ]
    }
   ],
   "source": [
    "import psycopg\n",
    "\n",
    "database = \"fastapi\"\n",
    "\n",
    "host = \"localhost\"\n",
    "user = \"postgres\"\n",
    "password = \"admin\"\n",
    "\n",
    "try:\n",
    "    connection = psycopg.connect(host=host, user=user, password=password)\n",
    "    cursor = connection.cursor()\n",
    "    print(\"Connection status: [\\033[32mSUCCESS\\033[0m]\")\n",
    "except Exception as error:\n",
    "    print(\"Connection status: [\\033[31mFAILED\\033[0m]\")\n",
    "    print(f\"Error: {error}\")"
   ]
  },
  {
   "cell_type": "code",
   "execution_count": null,
   "metadata": {},
   "outputs": [],
   "source": []
  }
 ],
 "metadata": {
  "kernelspec": {
   "display_name": ".venv",
   "language": "python",
   "name": "python3"
  },
  "language_info": {
   "codemirror_mode": {
    "name": "ipython",
    "version": 3
   },
   "file_extension": ".py",
   "mimetype": "text/x-python",
   "name": "python",
   "nbconvert_exporter": "python",
   "pygments_lexer": "ipython3",
   "version": "3.11.4"
  }
 },
 "nbformat": 4,
 "nbformat_minor": 2
}
